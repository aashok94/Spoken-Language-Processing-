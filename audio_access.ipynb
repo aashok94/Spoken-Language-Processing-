{
 "cells": [
  {
   "cell_type": "code",
   "execution_count": 36,
   "metadata": {},
   "outputs": [],
   "source": [
    "import wave\n",
    "import numpy as np\n",
    "import matplotlib.pyplot as plt\n",
    "import speech_recognition as sr"
   ]
  },
  {
   "cell_type": "code",
   "execution_count": 37,
   "metadata": {},
   "outputs": [],
   "source": [
    "# open wave file\n",
    "\n",
    "gm = wave.open(\"gmm.wav\",\"r\")\n",
    "ga = wave.open(\"ga.wav\",\"r\")"
   ]
  },
  {
   "cell_type": "code",
   "execution_count": 38,
   "metadata": {},
   "outputs": [
    {
     "name": "stdout",
     "output_type": "stream",
     "text": [
      "gm bytes: b'\\xfd\\xff\\xfb\\xff\\xf8\\xff\\xf8\\xff\\xf7\\xff'\n",
      "gm int: [ -3  -5  -8  -8  -9 -13  -8 -10  -9 -11]\n",
      "ga bytes: b'\\xb1\\xff\\xca\\xff\\xb0\\xff\\xcf\\xff\\xab\\xff'\n",
      "ga bytes: [-79 -54 -80 -49 -85 -45 -87 -51 -87 -58]\n"
     ]
    }
   ],
   "source": [
    "# wave to bytes and want to read all info\n",
    "\n",
    "soundwave_gm = gm.readframes(-1)\n",
    "print(\"gm bytes:\", soundwave_gm[:10])\n",
    "\n",
    "# bytes to integers\n",
    "soundwave_gm = np.frombuffer(soundwave_gm, dtype='int16')\n",
    "print(\"gm int:\", soundwave_gm[:10])\n",
    "\n",
    "# wave to bytes and want to read all info\n",
    "\n",
    "soundwave_ga = ga.readframes(-1)\n",
    "print(\"ga bytes:\", soundwave_ga[:10])\n",
    "\n",
    "# bytes to integers\n",
    "soundwave_ga = np.frombuffer(soundwave_ga, dtype='int16')\n",
    "print(\"ga bytes:\", soundwave_ga[:10])"
   ]
  },
  {
   "cell_type": "code",
   "execution_count": 39,
   "metadata": {},
   "outputs": [
    {
     "name": "stdout",
     "output_type": "stream",
     "text": [
      "gm frames: 48000\n",
      "ga frames: 48000\n"
     ]
    }
   ],
   "source": [
    "# frequenccy = length of wave object array/duration of audio in seconds\n",
    "\n",
    "framerate_gm = gm.getframerate()\n",
    "print(\"gm frames:\", framerate_gm) \n",
    "\n",
    "# frequenccy = length of wave object array/duration of audio in seconds\n",
    "\n",
    "framerate_ga = ga.getframerate()\n",
    "print(\"ga frames:\", framerate_ga) "
   ]
  },
  {
   "cell_type": "code",
   "execution_count": 40,
   "metadata": {},
   "outputs": [
    {
     "name": "stdout",
     "output_type": "stream",
     "text": [
      "gm time: [0.00000000e+00 2.08334167e-05 4.16668333e-05 6.25002500e-05\n",
      " 8.33336667e-05 1.04167083e-04 1.25000500e-04 1.45833917e-04\n",
      " 1.66667333e-04 1.87500750e-04]\n",
      "ga time: [0.00000000e+00 2.08333960e-05 4.16667921e-05 6.25001881e-05\n",
      " 8.33335841e-05 1.04166980e-04 1.25000376e-04 1.45833772e-04\n",
      " 1.66667168e-04 1.87500564e-04]\n"
     ]
    }
   ],
   "source": [
    "# duration of audio gives timestamps at which each sound wave value occurs\n",
    "    \n",
    "time_gm = np.linspace(start=0, stop=len(soundwave_gm)/framerate_gm, num=len(soundwave_gm))\n",
    "print(\"gm time:\", time_gm[:10])\n",
    "\n",
    "# duration of audio gives timestamps at which each sound wave value occurs\n",
    "    \n",
    "time_ga = np.linspace(start=0, stop=len(soundwave_ga)/framerate_ga, num=len(soundwave_ga))\n",
    "print(\"ga time:\", time_ga[:10])"
   ]
  },
  {
   "cell_type": "code",
   "execution_count": 41,
   "metadata": {},
   "outputs": [
    {
     "data": {
      "image/png": "[encoded data removed]",
      "text/plain": [
       "<Figure size 432x288 with 1 Axes>"
      ]
     },
     "metadata": {
      "needs_background": "light"
     },
     "output_type": "display_data"
    }
   ],
   "source": [
    "# initialize figure and set a title\n",
    "\n",
    "plt.title(\"Good afternoon vs. Good morning\")\n",
    "\n",
    "#x & y axis labels\n",
    "\n",
    "plt.xlabel(\"Time(sec)\")\n",
    "plt.ylabel(\"Amplitude\")\n",
    "\n",
    "# add values\n",
    "\n",
    "plt.plot(time_ga, soundwave_ga, label=\"Good afternoon\")\n",
    "plt.plot(time_gm, soundwave_gm, label=\"Good morning\", alpha=1) #alpha keeps  it lighter\n",
    "\n",
    "plt.legend()\n",
    "plt.show()\n"
   ]
  },
  {
   "cell_type": "code",
   "execution_count": 42,
   "metadata": {},
   "outputs": [
    {
     "name": "stdout",
     "output_type": "stream",
     "text": [
      "text1:  hello I'd like to get some help setting up my account please\n",
      "text2:  what are the limitations of the speech recognition library\n"
     ]
    }
   ],
   "source": [
    "# for human speech\n",
    "# use speech_recognition library for python3 make sure to set language param correctly\n",
    "# requires a recognizer class that interacts with speech APIs eg recognize_bing(), recognize_google(), recognize_google_cloud() \n",
    "# create an instance of Recognizer and set energy threshold (loudness of audio = speech, below is consider silence)\n",
    "\n",
    "recognizer = sr.Recognizer()\n",
    "#recognizer.energy_threshold = 300\n",
    "\n",
    "# recognizer takes input as audio file and provides output as transcribed audio\n",
    "#recognize_google() is free and does not need api key, 50 requests per day and audio files less than 5mins\n",
    "\n",
    "# AudioFile does preprocessing and record method (with is a context manager) \n",
    "# record (source, duration, offset) method will record up to duration audio starting at offset\n",
    "\n",
    "support = sr.AudioFile(\"support.wav\")\n",
    "with support as source:\n",
    "    audio = recognizer.record(source)\n",
    "text1 = recognizer.recognize_google(audio_data=audio, language=\"en-US\")\n",
    "print(\"text1: \", text1)\n",
    "\n",
    "#multiple speaker problem\n",
    "\n",
    "mul = sr.AudioFile(\"mul.wav\")\n",
    "with mul as source:\n",
    "    audio = recognizer.record(source)\n",
    "text2 = recognizer.recognize_google(audio_data=audio, language=\"en-US\")\n",
    "print(\"text2: \", text2)\n",
    "\n",
    "# for noise removal recognizer.adjust_for_ambient_noise(source, duration)"
   ]
  }
 ],
 "metadata": {
  "kernelspec": {
   "display_name": "Python 3",
   "language": "python",
   "name": "python3"
  },
  "language_info": {
   "codemirror_mode": {
    "name": "ipython",
    "version": 3
   },
   "file_extension": ".py",
   "mimetype": "text/x-python",
   "name": "python",
   "nbconvert_exporter": "python",
   "pygments_lexer": "ipython3",
   "version": "3.6.7"
  }
 },
 "nbformat": 4,
 "nbformat_minor": 2
}
