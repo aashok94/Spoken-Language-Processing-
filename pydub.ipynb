{
 "cells": [
  {
   "cell_type": "code",
   "execution_count": 27,
   "metadata": {},
   "outputs": [],
   "source": [
    "# PyDub is another library gives tools for audio manipulation\n",
    "# one main class AudioSegment\n",
    "\n",
    "from pydub import AudioSegment\n",
    "from pydub.playback import play\n",
    "from pydub.effects import normalize "
   ]
  },
  {
   "cell_type": "code",
   "execution_count": 28,
   "metadata": {},
   "outputs": [
    {
     "name": "stdout",
     "output_type": "stream",
     "text": [
      "channels: 2\n",
      "frame_rate: 48000\n",
      "sample width: 2\n",
      "loudness: 8484\n",
      "duration: 3284\n",
      "new sample width: 1\n",
      "new rame_rate: 16000\n"
     ]
    }
   ],
   "source": [
    "# files other than .wav need ffmp\n",
    "\n",
    "gm = AudioSegment.from_file(file=\"wav.wav\", format=\"wav\")\n",
    "#play(gm)\n",
    "\n",
    "# check no of channels \n",
    "channel_gm = gm.channels\n",
    "print(\"channels:\", channel_gm)\n",
    "\n",
    "# sample rate in Hz\n",
    "frame_gm = gm.frame_rate\n",
    "print(\"frame_rate:\", frame_gm)\n",
    "\n",
    "# no of bytes per sample\n",
    "sample_gm = gm.sample_width\n",
    "print(\"sample width:\", sample_gm)\n",
    "\n",
    "# loudness of audio by max\n",
    "loudness_gm = gm.max\n",
    "print(\"loudness:\", loudness_gm)\n",
    "\n",
    "# duration o f audio\n",
    "len_gm = len(gm)\n",
    "print(\"duration:\", len_gm)\n",
    "\n",
    "# changing parameter\n",
    "# change_audio_segment = audio_segment.set_ATTRIBUTENAME(x)\n",
    "\n",
    "sampley_gm = gm.set_sample_width(1)\n",
    "print(\"new sample width:\", sampley_gm.sample_width)\n",
    "\n",
    "framey_gm = gm.set_frame_rate(16000)\n",
    "print(\"new rame_rate:\", framey_gm.frame_rate)"
   ]
  },
  {
   "cell_type": "code",
   "execution_count": 30,
   "metadata": {},
   "outputs": [],
   "source": [
    "# audio segments can be made louder or quieter by +/- integers dB's\n",
    "\n",
    "louder_gm = gm + 30\n",
    "play(louder_gm)\n",
    "\n",
    "quiet_gm = gm - 30\n",
    "play(quiet_gm)\n",
    "\n",
    "# to export manipulated files in pydub use .export(out_f, format)\n",
    "louder_gm.export(out_f=\"louder_gm.wav\", format=\"wav\")\n",
    "quiet_gm.export(out_f=\"quiet_gm.wav\", format=\"wav\")\n",
    "\n",
    "# audio can be normalized\n",
    "\n",
    "normalize_louder = normalize(louder_gm)\n",
    "play(normalize_louder)\n",
    "\n",
    "normalize_quiet = normalize(quiet_gm)\n",
    "play(normalize_quiet)"
   ]
  },
  {
   "cell_type": "code",
   "execution_count": 31,
   "metadata": {},
   "outputs": [],
   "source": [
    "# to remove 5sec of static use slicing, no_gm = gm[5000:]\n",
    "# add audios with + \n",
    "# split stereo channel to mono, gm.split_to_mono()"
   ]
  },
  {
   "cell_type": "code",
   "execution_count": null,
   "metadata": {},
   "outputs": [],
   "source": [
    "# multiple audios\n",
    "# Loop through the files in the folder\n",
    "for audio_file in folder: \n",
    "\t# Create the new .wav filename\n",
    "    wav_filename = os.path.splitext(os.path.basename(audio_file))[0] + \".wav\"      \n",
    "    # Read audio_file and export it in wav format\n",
    "    AudioSegment.from_file(audio_file).export(out_f=wav_filename, \n",
    "                                      format=\"wav\")        \n",
    "    print(f\"Creating {wav_filename}...\")\n",
    "    \n",
    "for audio_file in folder:\n",
    "    file_with_static = AudioSegment.from_file(audio_file)\n",
    "    # Cut the 3-seconds of static off\n",
    "    file_without_static = file_with_static[3000:]\n",
    "    # Increase the volume by 10dB\n",
    "    louder_file_without_static = file_without_static + 10\n",
    "    # Create the .wav filename for export\n",
    "    wav_filename = os.path.splitext(os.path.basename(audio_file))[0] + \".wav\"    \n",
    "    # Export the louder file without static as .wav\n",
    "    louder_file_without_static.export(wav_filename, format=\"wav\")\n",
    "    print(f\"Creating {wav_filename}...\")"
   ]
  }
 ],
 "metadata": {
  "kernelspec": {
   "display_name": "Python 3",
   "language": "python",
   "name": "python3"
  },
  "language_info": {
   "codemirror_mode": {
    "name": "ipython",
    "version": 3
   },
   "file_extension": ".py",
   "mimetype": "text/x-python",
   "name": "python",
   "nbconvert_exporter": "python",
   "pygments_lexer": "ipython3",
   "version": "3.6.7"
  }
 },
 "nbformat": 4,
 "nbformat_minor": 2
}
