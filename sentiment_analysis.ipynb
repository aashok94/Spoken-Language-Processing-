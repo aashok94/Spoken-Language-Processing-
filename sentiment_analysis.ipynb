{
 "cells": [
  {
   "cell_type": "code",
   "execution_count": null,
   "metadata": {},
   "outputs": [],
   "source": [
    "# sentiment analysis"
   ]
  },
  {
   "cell_type": "code",
   "execution_count": 31,
   "metadata": {},
   "outputs": [
    {
     "name": "stdout",
     "output_type": "stream",
     "text": [
      "[nltk_data] Downloading package punkt to C:\\Users\\Ashita\n",
      "[nltk_data]     Ashok\\AppData\\Roaming\\nltk_data...\n",
      "[nltk_data]   Package punkt is already up-to-date!\n",
      "[nltk_data] Downloading package vader_lexicon to C:\\Users\\Ashita\n",
      "[nltk_data]     Ashok\\AppData\\Roaming\\nltk_data...\n",
      "[nltk_data]   Package vader_lexicon is already up-to-date!\n"
     ]
    },
    {
     "data": {
      "text/plain": [
       "True"
      ]
     },
     "execution_count": 31,
     "metadata": {},
     "output_type": "execute_result"
    }
   ],
   "source": [
    "import nltk\n",
    "nltk.download(\"punkt\")\n",
    "nltk.download(\"vader_lexicon\") #sentiment analysis model, analyses each word and giving it sentiment score, pretrained on social media text messages"
   ]
  },
  {
   "cell_type": "code",
   "execution_count": 32,
   "metadata": {},
   "outputs": [],
   "source": [
    "from ipynb.fs.full.three import transcribe_audio\n",
    "from nltk.sentiment.vader import SentimentIntensityAnalyzer \n",
    "from nltk import sent_tokenize\n",
    "sid = SentimentIntensityAnalyzer()"
   ]
  },
  {
   "cell_type": "code",
   "execution_count": 33,
   "metadata": {},
   "outputs": [
    {
     "name": "stdout",
     "output_type": "stream",
     "text": [
      "{'neg': 0.374, 'neu': 0.626, 'pos': 0.0, 'compound': -0.4575}\n"
     ]
    }
   ],
   "source": [
    "# sample sentiment analysis on negative text\n",
    "print(sid.polarity_scores(\"She is not a very kind person.\"))"
   ]
  },
  {
   "cell_type": "code",
   "execution_count": 34,
   "metadata": {},
   "outputs": [
    {
     "name": "stdout",
     "output_type": "stream",
     "text": [
      "Text here: hello my name is Daniel thank you for calling acne Studios how can I best help you are hi Daniel my name is Sally I've recently purchased a smart phone from you guys and extremely happy with it but I just got to learn a little bit more about the message bank OK Google location but I'm finding it hard I got you on the corner of Edward and Elizabeth according to Google according to the max but damn would you be able to help me in some way because I think I actually walk straight past your shop yeah sure thing or thank you Sally that's good to hear you're enjoying it let me let me find out where the nearest store is for you\n",
      "Sentiment here: {'neg': 0.035, 'neu': 0.708, 'pos': 0.257, 'compound': 0.9844}\n"
     ]
    }
   ],
   "source": [
    "support_text = transcribe_audio(\"call_2.wav\")\n",
    "print(\"Text here:\", support_text)\n",
    "print(f\"Sentiment here: {sid.polarity_scores(support_text)}\")"
   ]
  },
  {
   "cell_type": "code",
   "execution_count": 37,
   "metadata": {},
   "outputs": [
    {
     "name": "stdout",
     "output_type": "stream",
     "text": [
      "hello my name is Daniel thank you for calling acne Studios how can I best help you are hi Daniel my name is Sally I've recently purchased a smart phone from you guys and extremely happy with it but I just got to learn a little bit more about the message bank OK Google location but I'm finding it hard I got you on the corner of Edward and Elizabeth according to Google according to the max but damn would you be able to help me in some way because I think I actually walk straight past your shop yeah sure thing or thank you Sally that's good to hear you're enjoying it let me let me find out where the nearest store is for you\n",
      "{'neg': 0.035, 'neu': 0.708, 'pos': 0.257, 'compound': 0.9844}\n"
     ]
    }
   ],
   "source": [
    "# splitting each sentence of text to realize within sentiments\n",
    "for sentence in sent_tokenize(support_text):\n",
    "    print(sentence)\n",
    "    print(sid.polarity_scores(sentence))"
   ]
  },
  {
   "cell_type": "code",
   "execution_count": null,
   "metadata": {},
   "outputs": [],
   "source": []
  }
 ],
 "metadata": {
  "kernelspec": {
   "display_name": "Python 3",
   "language": "python",
   "name": "python3"
  },
  "language_info": {
   "codemirror_mode": {
    "name": "ipython",
    "version": 3
   },
   "file_extension": ".py",
   "mimetype": "text/x-python",
   "name": "python",
   "nbconvert_exporter": "python",
   "pygments_lexer": "ipython3",
   "version": "3.6.7"
  }
 },
 "nbformat": 4,
 "nbformat_minor": 2
}
